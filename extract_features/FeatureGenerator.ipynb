{
 "cells": [
  {
   "cell_type": "code",
   "execution_count": 40,
   "metadata": {},
   "outputs": [],
   "source": [
    "import sys\n",
    "del sys.modules[\"FeatureGenerator\"]"
   ]
  },
  {
   "cell_type": "code",
   "execution_count": 1,
   "metadata": {},
   "outputs": [],
   "source": [
    "from FeatureGenerator import FeatureGenerator\n",
    "from mahjong.hand_calculating.hand import HandCalculator\n",
    "from mahjong.hand_calculating.scores import ScoresCalculator\n",
    "from mahjong.hand_calculating.hand_config import HandConfig, HandConstants\n",
    "from mahjong.tile import TilesConverter\n",
    "from mahjong.shanten import Shanten\n",
    "from mahjong.meld import Meld\n",
    "import json\n",
    "import numpy as np\n",
    "import hashlib\n",
    "import marshal\n",
    "\n",
    "fg = FeatureGenerator()"
   ]
  },
  {
   "cell_type": "code",
   "execution_count": 42,
   "metadata": {},
   "outputs": [
    {
     "name": "stdout",
     "output_type": "stream",
     "text": [
      "[1. 0.]\n",
      "[1. 0.]\n",
      "[1. 0.]\n",
      "[1. 0.]\n",
      "[0. 1.]\n",
      "[1. 0.]\n",
      "[1. 0.]\n",
      "[1. 0.]\n",
      "[1. 0.]\n",
      "[1. 0.]\n",
      "[1. 0.]\n",
      "[1. 0.]\n",
      "[1. 0.]\n",
      "[1. 0.]\n",
      "[1. 0.]\n",
      "[1. 0.]\n",
      "[1. 0.]\n"
     ]
    }
   ],
   "source": [
    "with open(\"assist/chi_pon_kan_reach_2021.json\") as infile:\n",
    "    for idx,line in enumerate(infile):\n",
    "        if idx==100:\n",
    "            break\n",
    "        state = json.loads(line)\n",
    "#         chifeatures = fg.ChiFeatureGenerator(state)\n",
    "#         print(next(chifeatures,None))\n",
    "        if state[\"could_chi\"] == 1:\n",
    "            chifeatures = fg.ChiFeatureGenerator(state)\n",
    "            for chifeature in chifeatures:\n",
    "                print(chifeature[1])\n",
    "            \n",
    "        "
   ]
  },
  {
   "cell_type": "code",
   "execution_count": 2,
   "metadata": {},
   "outputs": [
    {
     "ename": "FileNotFoundError",
     "evalue": "[Errno 2] No such file or directory: 'assist/new_discard_2021.json'",
     "output_type": "error",
     "traceback": [
      "\u001b[0;31m---------------------------------------------------------------------------\u001b[0m",
      "\u001b[0;31mFileNotFoundError\u001b[0m                         Traceback (most recent call last)",
      "\u001b[0;32m<ipython-input-2-a531c44f8308>\u001b[0m in \u001b[0;36m<module>\u001b[0;34m\u001b[0m\n\u001b[1;32m      3\u001b[0m \u001b[0;32mimport\u001b[0m \u001b[0mtime\u001b[0m\u001b[0;34m\u001b[0m\u001b[0;34m\u001b[0m\u001b[0m\n\u001b[1;32m      4\u001b[0m \u001b[0mstarttime\u001b[0m \u001b[0;34m=\u001b[0m \u001b[0mtime\u001b[0m\u001b[0;34m.\u001b[0m\u001b[0mtime\u001b[0m\u001b[0;34m(\u001b[0m\u001b[0;34m)\u001b[0m\u001b[0;34m\u001b[0m\u001b[0;34m\u001b[0m\u001b[0m\n\u001b[0;32m----> 5\u001b[0;31m \u001b[0;32mwith\u001b[0m \u001b[0mopen\u001b[0m\u001b[0;34m(\u001b[0m\u001b[0;34m\"assist/new_discard_2021.json\"\u001b[0m\u001b[0;34m)\u001b[0m \u001b[0;32mas\u001b[0m \u001b[0minfile\u001b[0m\u001b[0;34m:\u001b[0m\u001b[0;34m\u001b[0m\u001b[0;34m\u001b[0m\u001b[0m\n\u001b[0m\u001b[1;32m      6\u001b[0m     \u001b[0;32mfor\u001b[0m \u001b[0midx\u001b[0m\u001b[0;34m,\u001b[0m\u001b[0mline\u001b[0m \u001b[0;32min\u001b[0m \u001b[0menumerate\u001b[0m\u001b[0;34m(\u001b[0m\u001b[0minfile\u001b[0m\u001b[0;34m)\u001b[0m\u001b[0;34m:\u001b[0m\u001b[0;34m\u001b[0m\u001b[0;34m\u001b[0m\u001b[0m\n\u001b[1;32m      7\u001b[0m         \u001b[0;32mif\u001b[0m \u001b[0mstart\u001b[0m \u001b[0;34m<=\u001b[0m \u001b[0midx\u001b[0m \u001b[0;34m<=\u001b[0m\u001b[0mend\u001b[0m\u001b[0;34m:\u001b[0m\u001b[0;34m\u001b[0m\u001b[0;34m\u001b[0m\u001b[0m\n",
      "\u001b[0;31mFileNotFoundError\u001b[0m: [Errno 2] No such file or directory: 'assist/new_discard_2021.json'"
     ]
    }
   ],
   "source": [
    "start = 215\n",
    "end = 220\n",
    "import time\n",
    "starttime = time.time()\n",
    "with open(\"assist/new_discard_2021.json\") as infile:\n",
    "    for idx,line in enumerate(infile):\n",
    "        if start <= idx <=end:\n",
    "            state = json.loads(line)\n",
    "            dfeatures = fg.DiscardFeatureGenerator(state)\n",
    "            for dfeature in dfeatures:\n",
    "                print(np.squeeze(dfeature[0][4:8]))\n",
    "\n",
    "#                 print(np.squeeze(dfeature[0][4]))\n",
    "#                 print(np.shape(dfeature[0]))\n",
    "#                 for i in range(8):\n",
    "#                     print(np.squeeze(dfeature[0][i]))\n",
    "            \n",
    "        elif idx > end:\n",
    "            break\n",
    "        else:\n",
    "            continue\n",
    "print(time.time() - starttime)"
   ]
  },
  {
   "cell_type": "code",
   "execution_count": null,
   "metadata": {},
   "outputs": [],
   "source": []
  }
 ],
 "metadata": {
  "kernelspec": {
   "display_name": "Python 3",
   "language": "python",
   "name": "python3"
  },
  "language_info": {
   "codemirror_mode": {
    "name": "ipython",
    "version": 3
   },
   "file_extension": ".py",
   "mimetype": "text/x-python",
   "name": "python",
   "nbconvert_exporter": "python",
   "pygments_lexer": "ipython3",
   "version": "3.7.6"
  }
 },
 "nbformat": 4,
 "nbformat_minor": 2
}
