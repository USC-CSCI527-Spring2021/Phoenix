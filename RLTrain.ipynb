{
 "cells": [
  {
   "cell_type": "code",
   "execution_count": 13,
   "metadata": {},
   "outputs": [
    {
     "ename": "ImportError",
     "evalue": "cannot import name 'enable_eager_executione' from 'tensorflow.python.framework.ops' (/Users/xingyu/opt/anaconda3/lib/python3.7/site-packages/tensorflow/python/framework/ops.py)",
     "output_type": "error",
     "traceback": [
      "\u001b[0;31m---------------------------------------------------------------------------\u001b[0m",
      "\u001b[0;31mImportError\u001b[0m                               Traceback (most recent call last)",
      "\u001b[0;32m<ipython-input-13-d0e5fbc4b1b1>\u001b[0m in \u001b[0;36m<module>\u001b[0;34m\u001b[0m\n\u001b[1;32m      3\u001b[0m \u001b[0;32mfrom\u001b[0m \u001b[0mtensorflow\u001b[0m \u001b[0;32mimport\u001b[0m \u001b[0mkeras\u001b[0m\u001b[0;34m\u001b[0m\u001b[0;34m\u001b[0m\u001b[0m\n\u001b[1;32m      4\u001b[0m \u001b[0;32mimport\u001b[0m \u001b[0mpickle\u001b[0m\u001b[0;34m\u001b[0m\u001b[0;34m\u001b[0m\u001b[0m\n\u001b[0;32m----> 5\u001b[0;31m \u001b[0;32mfrom\u001b[0m \u001b[0mtensorflow\u001b[0m\u001b[0;34m.\u001b[0m\u001b[0mpython\u001b[0m\u001b[0;34m.\u001b[0m\u001b[0mframework\u001b[0m\u001b[0;34m.\u001b[0m\u001b[0mops\u001b[0m \u001b[0;32mimport\u001b[0m \u001b[0mdisable_eager_execution\u001b[0m\u001b[0;34m,\u001b[0m \u001b[0menable_eager_executione\u001b[0m\u001b[0;34m\u001b[0m\u001b[0;34m\u001b[0m\u001b[0m\n\u001b[0m\u001b[1;32m      6\u001b[0m \u001b[0mdisable_eager_execution\u001b[0m\u001b[0;34m(\u001b[0m\u001b[0;34m)\u001b[0m\u001b[0;34m\u001b[0m\u001b[0;34m\u001b[0m\u001b[0m\n",
      "\u001b[0;31mImportError\u001b[0m: cannot import name 'enable_eager_executione' from 'tensorflow.python.framework.ops' (/Users/xingyu/opt/anaconda3/lib/python3.7/site-packages/tensorflow/python/framework/ops.py)"
     ]
    }
   ],
   "source": [
    "import numpy as np\n",
    "import tensorflow as tf\n",
    "from tensorflow import keras\n",
    "import pickle\n",
    "from tensorflow.python.framework.ops import disable_eager_execution\n",
    "disable_eager_execution()"
   ]
  },
  {
   "cell_type": "code",
   "execution_count": 2,
   "metadata": {},
   "outputs": [],
   "source": [
    "model_type = 'chi'\n",
    "buffer = pickle.load(open(f'tenhou_env/buffer/0/{model_type}.pkl', 'rb'))\n",
    "buf = buffer['buffer']"
   ]
  },
  {
   "cell_type": "code",
   "execution_count": 3,
   "metadata": {},
   "outputs": [
    {
     "name": "stdout",
     "output_type": "stream",
     "text": [
      "(63, 34, 1)\n",
      "()\n",
      "(2,)\n",
      "(2,)\n"
     ]
    }
   ],
   "source": [
    "a, b, c, d = buf[0]\n",
    "print(a.shape)\n",
    "print(b.shape)\n",
    "print(c.shape)\n",
    "print(d.shape)"
   ]
  },
  {
   "cell_type": "code",
   "execution_count": 4,
   "metadata": {},
   "outputs": [
    {
     "data": {
      "text/plain": [
       "-0.032500032"
      ]
     },
     "execution_count": 4,
     "metadata": {},
     "output_type": "execute_result"
    }
   ],
   "source": [
    "b"
   ]
  },
  {
   "cell_type": "code",
   "execution_count": 5,
   "metadata": {},
   "outputs": [],
   "source": [
    "actor = keras.models.load_model('models/chi')"
   ]
  },
  {
   "cell_type": "code",
   "execution_count": 6,
   "metadata": {},
   "outputs": [],
   "source": [
    "\n",
    "from keras import backend as K\n",
    "\n",
    "\n",
    "ENTROPY_LOSS = 5e-3\n",
    "LOSS_CLIPPING = 0.2\n",
    "\n",
    "def proximal_policy_optimization_loss(advantage, old_prediction):\n",
    "    def loss(y_true, y_pred):\n",
    "        prob = K.sum(y_true * y_pred, axis=-1)\n",
    "        old_prob = K.sum(y_true * old_prediction, axis=-1)\n",
    "        r = prob / (old_prob + 1e-10)\n",
    "        return -K.mean(K.minimum(r * advantage, K.clip(r, min_value=1-LOSS_CLIPPING, max_value=1+LOSS_CLIPPING) * advantage) + ENTROPY_LOSS * -(prob * K.log(prob + 1e-10)))\n",
    "    return loss"
   ]
  },
  {
   "cell_type": "code",
   "execution_count": 7,
   "metadata": {},
   "outputs": [],
   "source": [
    "from tensorflow.keras.optimizers import Adam\n",
    "LR = 1e-4\n",
    "\n",
    "state_input = keras.Input(actor.input.shape[1:])\n",
    "advantage = keras.Input(shape=(1,))\n",
    "old_prediction = keras.Input(shape=actor.output.shape[1:])\n",
    "\n",
    "\n",
    "\n",
    "output = actor(state_input)\n",
    "model = keras.Model(inputs=[state_input, advantage, old_prediction], outputs=[output])\n",
    "model.compile(optimizer=Adam(learning_rate=LR),\n",
    "                   loss=[proximal_policy_optimization_loss(\n",
    "                       advantage=advantage,\n",
    "                       old_prediction=old_prediction\n",
    "                   )],\n",
    "                   metrics=[tf.keras.metrics.Accuracy(name=\"accuracy\")])\n",
    "state_input = keras.Input(actor.input.shape[1:])\n",
    "advantage = keras.Input(shape=(1,))\n",
    "old_prediction = keras.Input(shape=actor.output.shape[1:])\n",
    "\n",
    "\n",
    "\n",
    "output = actor(state_input)\n",
    "model = keras.Model(inputs=[state_input, advantage, old_prediction], outputs=[output])\n",
    "model.compile(optimizer=Adam(learning_rate=LR),\n",
    "                   loss=[proximal_policy_optimization_loss(\n",
    "                       advantage=advantage,\n",
    "                       old_prediction=old_prediction\n",
    "                   )],\n",
    "                   metrics=[tf.keras.metrics.Accuracy(name=\"accuracy\")],\n",
    "                     experimental_run_tf_function=False)"
   ]
  },
  {
   "cell_type": "code",
   "execution_count": 8,
   "metadata": {},
   "outputs": [
    {
     "data": {
      "text/plain": [
       "30"
      ]
     },
     "execution_count": 8,
     "metadata": {},
     "output_type": "execute_result"
    }
   ],
   "source": [
    "buffer['size']"
   ]
  },
  {
   "cell_type": "code",
   "execution_count": 9,
   "metadata": {},
   "outputs": [],
   "source": [
    "idxs = np.random.randint(0, buffer['size'], size=128)\n",
    "batch = np.asarray(buf)[idxs]\n",
    "feature, advantage, old_prediction, action = zip(*batch)\n",
    "\n",
    "feature = np.asarray(feature)\n",
    "advantage = np.asarray(advantage)\n",
    "old_prediction = np.asarray(old_prediction)\n",
    "action = np.asarray(action)\n"
   ]
  },
  {
   "cell_type": "code",
   "execution_count": 19,
   "metadata": {},
   "outputs": [
    {
     "name": "stdout",
     "output_type": "stream",
     "text": [
      "batch shape: feature:(128, 63, 34, 1), advantage:(128,)\n",
      "actor loss: <tensorflow.python.keras.callbacks.History object at 0x7fbe88a26650>\n"
     ]
    }
   ],
   "source": [
    "print(f\"batch shape: feature:{feature.shape}, advantage:{advantage.shape}\")\n",
    "actor_loss = model.fit(x=[np.asarray(feature), np.asarray(advantage), np.asarray(old_prediction)], y=[np.asarray(action)], shuffle=True, epochs=2,\n",
    "                            verbose=False)\n",
    "print(f\"actor loss: {actor_loss}\")"
   ]
  },
  {
   "cell_type": "code",
   "execution_count": 20,
   "metadata": {},
   "outputs": [
    {
     "data": {
      "text/plain": [
       "{'loss': [0.025221601128578186, 0.024979551788419485], 'accuracy': [0.0, 0.0]}"
      ]
     },
     "execution_count": 20,
     "metadata": {},
     "output_type": "execute_result"
    }
   ],
   "source": [
    "actor_loss.history"
   ]
  },
  {
   "cell_type": "code",
   "execution_count": null,
   "metadata": {},
   "outputs": [],
   "source": []
  }
 ],
 "metadata": {
  "kernelspec": {
   "display_name": "Python 3",
   "language": "python",
   "name": "python3"
  },
  "language_info": {
   "codemirror_mode": {
    "name": "ipython",
    "version": 3
   },
   "file_extension": ".py",
   "mimetype": "text/x-python",
   "name": "python",
   "nbconvert_exporter": "python",
   "pygments_lexer": "ipython3",
   "version": "3.7.6"
  }
 },
 "nbformat": 4,
 "nbformat_minor": 4
}
