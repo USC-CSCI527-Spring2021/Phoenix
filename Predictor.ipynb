{
 "cells": [
  {
   "cell_type": "code",
   "execution_count": 2,
   "metadata": {},
   "outputs": [],
   "source": [
    "import tensorflow as tf\n",
    "import tensorflow.keras as keras\n",
    "import tensorflow.keras.backend as K\n",
    "from tensorflow.keras.layers import GRU, Dropout, Masking, Embedding\n",
    "import constants\n",
    "import xml.etree.ElementTree as ET\n",
    "\n",
    "class Predictor:\n",
    "    def __init__(self):\n",
    "        pass\n",
    "\n",
    "    def getModel(self):\n",
    "        model = keras.model.Sequential()\n",
    "        model.add(\n",
    "            GRU(constants.hidden_dim, return_sequences=True))\n",
    "        model.add(\n",
    "            GRU(constants.hidden_dim, return_sequences=True))\n",
    "        model.add(Dense(constants.hidden_dim, activation='Relu'))\n",
    "        model.add(Dense(1))\n",
    "        return model\n",
    "\n",
    "\n",
    "# inputs = tf.random.normal(constants.batch_size, constants.timestep, constants.feature_dim)\n",
    "# predictor = Predictor()\n",
    "# outputs = predictor.getModel(inputs)\n",
    "# model = keras.Model(inputs, outputs)\n",
    "# model.compile(optimizer='adam', loss='mse', metrics=[tf.keras.metrics.MeanSquaredError()])\n",
    "# model.summary()\n",
    "\n",
    "    \n",
    "\n"
   ]
  },
  {
   "cell_type": "code",
   "execution_count": null,
   "metadata": {},
   "outputs": [],
   "source": [
    "df = pd.read_csv('../logs_parser/2021.csv')\n",
    "for i, game in enumerate(df['log_content']):\n",
    "    node = ET.fromstringlist(game)"
   ]
  }
 ],
 "metadata": {
  "kernelspec": {
   "display_name": "Python 3",
   "language": "python",
   "name": "python3"
  },
  "language_info": {
   "codemirror_mode": {
    "name": "ipython",
    "version": 3
   },
   "file_extension": ".py",
   "mimetype": "text/x-python",
   "name": "python",
   "nbconvert_exporter": "python",
   "pygments_lexer": "ipython3",
   "version": "3.7.6"
  }
 },
 "nbformat": 4,
 "nbformat_minor": 4
}
