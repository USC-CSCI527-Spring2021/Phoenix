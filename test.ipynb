{
 "cells": [
  {
   "cell_type": "code",
   "execution_count": 1,
   "metadata": {
    "collapsed": true
   },
   "outputs": [],
   "source": [
    "import numpy as np\n",
    "import pandas as pd\n",
    "import xml.etree.ElementTree as ET\n",
    "from logs_parser.parser import parse_mjlog\n",
    "from logs_parser.viewer import print_node\n",
    "import tensorflow as tf\n",
    "from tensorflow import keras\n",
    "from tensorflow.keras.layers import Input, Conv1D, Conv2D, ReLU, BatchNormalization, Add, AveragePooling2D, Flatten, Dense\n",
    "from tensorflow.keras.models import Model"
   ]
  },
  {
   "cell_type": "code",
   "execution_count": 2,
   "outputs": [],
   "source": [
    "def relu_bn(inputs):\n",
    "    relu =ReLU()(inputs)\n",
    "    bn = BatchNormalization()(relu)\n",
    "    return bn\n",
    "def residual_block(x, filters, kernel_size, downsample):\n",
    "    y = Conv2D(kernel_size=kernel_size, strides= 1 if not downsample else 2, filters=filters, padding=\"same\")(x)\n",
    "    y = relu_bn(y)\n",
    "    y = Conv2D(kernel_size=kernel_size, strides= 1, filters=filters, padding=\"same\")(y)\n",
    "    if downsample:\n",
    "        x = Conv2D(kernel_size=1,\n",
    "                   strides=2,\n",
    "                   filters=filters,\n",
    "                   padding=\"same\")(x)\n",
    "    out = Add()([x, y])\n",
    "    out = relu_bn(out)\n",
    "    return out\n",
    "\n",
    "def preprocess(df_data):\n",
    "    states = []\n",
    "    label = []\n",
    "    for i, game in enumerate(df_data):\n",
    "        node = ET.fromstringlist(game)\n",
    "        data = parse_mjlog(node)\n",
    "        for round in data['rounds']:\n",
    "            players_hands = round[0]['data']['hands']\n",
    "            encoded_hands = np.zeros((4, 4, 34))\n",
    "            for j, hand in enumerate(players_hands):\n",
    "                hand.sort()\n",
    "                for t in hand:\n",
    "                    encoded_hands[j][t % 4][t // 4] = 1\n",
    "\n",
    "            for action in round[1:]:\n",
    "                if action['tag'] not in [\"DRAW\", \"DISCARD\"]:\n",
    "                    continue\n",
    "                player = action['data']['player']\n",
    "                same_tile_pos = action[\"data\"]['tile'] % 4\n",
    "                tile = action[\"data\"]['tile'] // 4\n",
    "                if action['tag'] == \"DRAW\":\n",
    "                    encoded_hands[player][same_tile_pos][tile] = 1\n",
    "                elif action['tag'] == \"DISCARD\":\n",
    "                    if np.count_nonzero(encoded_hands[player]) == 14:\n",
    "                        states.append(encoded_hands[player].copy())\n",
    "                        label.append(tile)\n",
    "                    encoded_hands[player][same_tile_pos][tile] = 0\n",
    "    return states, label"
   ],
   "metadata": {
    "collapsed": false,
    "pycharm": {
     "name": "#%%\n"
    }
   }
  },
  {
   "cell_type": "code",
   "execution_count": 3,
   "outputs": [],
   "source": [
    "df = pd.read_csv(\"./logs_parser/2021.csv\")\n",
    "states, label = preprocess(df['log_content'])\n",
    "states = np.array(states)"
   ],
   "metadata": {
    "collapsed": false,
    "pycharm": {
     "name": "#%%\n"
    }
   }
  },
  {
   "cell_type": "code",
   "execution_count": 4,
   "outputs": [],
   "source": [
    "# states = np.array_split(states, len(states)//128)\n",
    "states = states.reshape((len(states), 4, 34, 1))\n",
    "label = keras.utils.to_categorical(label, num_classes=34)\n",
    "train = int(len(states)*0.8)\n",
    "x_train = states[:train]\n",
    "x_label = label[:train]\n",
    "valid_data = states[train:]\n",
    "valid_label = label[train:]"
   ],
   "metadata": {
    "collapsed": false,
    "pycharm": {
     "name": "#%%\n"
    }
   }
  },
  {
   "cell_type": "code",
   "execution_count": 5,
   "outputs": [],
   "source": [
    "class BaseModel(keras.Model):\n",
    "    def __init__(self, ):\n",
    "        super(BaseModel, self).__init__()\n",
    "        self.conv1 = Conv2D(kernel_size=(34, 4), strides=1, filters=34, padding=\"same\")\n",
    "        # self.residual = self.residual_block(self.conv1, 34, (34,4), True)\n",
    "        self.outputs = keras.layers.Dense(34, activation=\"softmax\")\n",
    "\n",
    "    def residual_block(self, x, filters, kernel_size, downsample):\n",
    "        y = Conv2D(kernel_size=kernel_size, strides= 1 if not downsample else 2, filters=filters, padding=\"same\")(x)\n",
    "        y = relu_bn(y)\n",
    "        y = Conv2D(kernel_size=kernel_size, strides= 1, filters=filters, padding=\"same\")(y)\n",
    "        if downsample:\n",
    "            x = Conv2D(kernel_size=1,\n",
    "                       strides=2,\n",
    "                       filters=filters,\n",
    "                       padding=\"same\")(x)\n",
    "        out = Add()([x, y])\n",
    "        out = relu_bn(out)\n",
    "        return out\n",
    "    def call(self, in_shape):\n",
    "        x = in_shape\n",
    "        for _ in range(3):\n",
    "            x = self.conv1(x)\n",
    "        x = self.residual_block(x, 34, (34,4), True)\n",
    "        x = self.conv1(x)\n",
    "        x = self.outputs(x)\n",
    "        return keras.models.Model(in_shape,x)"
   ],
   "metadata": {
    "collapsed": false,
    "pycharm": {
     "name": "#%%\n"
    }
   }
  },
  {
   "cell_type": "code",
   "execution_count": 6,
   "outputs": [],
   "source": [
    "input_shape = keras.Input((4, 34, 1))\n",
    "x = input_shape\n",
    "# x = x_train\n",
    "x = Conv2D(256, (3, 1), padding=\"same\", data_format=\"channels_last\")(x)\n",
    "x = Conv2D(256, (3, 1), padding=\"same\", data_format=\"channels_last\")(x)\n",
    "x = Conv2D(256, (3, 1), padding=\"same\", data_format=\"channels_last\")(x)\n",
    "for _ in range(50):\n",
    "    x = residual_block(x, 256, (3, 1), False)\n",
    "\n",
    "x = Conv2D(kernel_size=1, strides=1, filters=1, padding=\"same\")(x)\n",
    "x = keras.layers.Flatten()(x)\n",
    "\n",
    "outputs = keras.layers.Dense(34, activation=\"softmax\")(x)\n",
    "# outputs = keras.backend.argmax(outputs)\n",
    "model = keras.Model(input_shape,outputs)\n"
   ],
   "metadata": {
    "collapsed": false,
    "pycharm": {
     "name": "#%%\n"
    }
   }
  },
  {
   "cell_type": "code",
   "execution_count": null,
   "outputs": [],
   "source": [
    "# outputs[0]\n",
    "print(\"states shape:\", states.shape)\n",
    "# model.summary()\n",
    "model.compile(keras.optimizers.Adam(learning_rate=0.004), keras.losses.CategoricalCrossentropy(), metrics=[\"accuracy\"])\n",
    "model.fit(x_train, x_label, epochs=50, batch_size=32, validation_data=(valid_data, valid_label), callbacks=[keras.callbacks.TensorBoard(log_dir=\"./logs\")])\n"
   ],
   "metadata": {
    "collapsed": false,
    "pycharm": {
     "name": "#%%\n"
    }
   }
  },
  {
   "cell_type": "code",
   "execution_count": null,
   "outputs": [],
   "source": [
    "# # keras.utils.plot_model(model, show_shapes=True)\n",
    "# input_shape = keras.Input(( 34, 4, 1))\n",
    "# model = BaseModel()(input_shape)\n",
    "# # model.summary(line_length=None, positions=None, print_fn=None)\n",
    "# model.compile(\"adam\", keras.losses.categorical_crossentropy, metrics=[\"accuracy\"])\n",
    "# model.fit(states, label[:1000], epochs=50,)"
   ],
   "metadata": {
    "collapsed": false,
    "pycharm": {
     "name": "#%%\n"
    }
   }
  },
  {
   "cell_type": "code",
   "execution_count": null,
   "outputs": [],
   "source": [
    "\n"
   ],
   "metadata": {
    "collapsed": false,
    "pycharm": {
     "name": "#%%\n"
    }
   }
  }
 ],
 "metadata": {
  "kernelspec": {
   "display_name": "Python 3",
   "language": "python",
   "name": "python3"
  },
  "language_info": {
   "codemirror_mode": {
    "name": "ipython",
    "version": 2
   },
   "file_extension": ".py",
   "mimetype": "text/x-python",
   "name": "python",
   "nbconvert_exporter": "python",
   "pygments_lexer": "ipython2",
   "version": "2.7.6"
  }
 },
 "nbformat": 4,
 "nbformat_minor": 0
}