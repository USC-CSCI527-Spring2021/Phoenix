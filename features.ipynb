{
 "cells": [
  {
   "cell_type": "code",
   "execution_count": 15,
   "metadata": {
    "scrolled": true
   },
   "outputs": [
    {
     "ename": "SystemExit",
     "evalue": "",
     "output_type": "error",
     "traceback": [
      "An exception has occurred, use %tb to see the full traceback.\n",
      "\u001b[0;31mSystemExit\u001b[0m\n"
     ]
    }
   ],
   "source": [
    "import pandas as pd\n",
    "from logs_parser.parser import parse_mjlog\n",
    "from logs_parser.viewer import print_node\n",
    "import xml.etree.ElementTree as ET\n",
    "import preprocess\n",
    "import sys\n",
    "import json\n",
    "\n",
    "df = pd.read_csv('./logs_parser/2021.csv')\n",
    "for i, xml_str in enumerate(df['log_content']):\n",
    "    node = ET.fromstring(xml_str)\n",
    "    data = parse_mjlog(node)\n",
    "    if len(data[\"meta\"]['UN'][3][\"name\"]) == 0:\n",
    "        continue\n",
    "\n",
    "    if i == 2:\n",
    "        f = open('example.json','w')\n",
    "        f.write(json.dumps(data, indent=2))\n",
    "        f.close()\n",
    "        sys.exit()\n",
    "    res = {}\n",
    "    for i in range(len(data[\"rounds\"])):\n",
    "\n",
    "        round_data = data[\"rounds\"][i] \n",
    "        round_info = preprocess.get_round_info(round_data) \n"
   ]
  },
  {
   "cell_type": "code",
   "execution_count": 16,
   "metadata": {},
   "outputs": [],
   "source": [
    "from mahjong.hand_calculating.hand import HandCalculator\n",
    "from mahjong.tile import TilesConverter\n",
    "from mahjong.hand_calculating.hand_config import HandConfig\n",
    "from mahjong.meld import Meld\n",
    "from mahjong.shanten import Shanten\n",
    "\n",
    "\n",
    "def getFeatures(round_info):\n",
    "    features = {}\n",
    "    \n",
    "\n",
    "    def shanten(tiles_list):\n",
    "        #given 14\n",
    "        tiles = TilesConverter.to_34_array(tiles_list)\n",
    "        return Shanten.calculate_shanten(tiles)\n",
    "\n",
    "    def doraAround(round_info):\n",
    "        dora_indicators = np.array(round_info['dora_indicators']) // 4\n",
    "        res = 0\n",
    "        for t in tiles:\n",
    "            t //= 4\n",
    "            for d in dora_indicators:\n",
    "                if abs(d-t) <= 2:\n",
    "                    res += 1\n",
    "                    break\n",
    "        return res\n",
    "    "
   ]
  },
  {
   "cell_type": "code",
   "execution_count": 56,
   "metadata": {},
   "outputs": [
    {
     "name": "stdout",
     "output_type": "stream",
     "text": [
      "1\n",
      "      101000000000110110000\n",
      "0\n"
     ]
    }
   ],
   "source": [
    "from typing import List\n",
    "from utils import *\n",
    "shanten_calculator = Shanten()\n",
    "\n",
    "def is_tile_strictly_isolated(hand_34, tile_34):\n",
    "    \"\"\"\n",
    "    Tile is strictly isolated if it doesn't have -2, -1, 0, +1, +2 neighbors\n",
    "    :param hand_34: array of tiles in 34 tile format\n",
    "    :param tile_34: int\n",
    "    :return: bool\n",
    "    \"\"\"\n",
    "\n",
    "    if is_honor(tile_34):\n",
    "        return hand_34[tile_34] - 1 <= 0\n",
    "\n",
    "    simplified = simplify(tile_34)\n",
    "\n",
    "    # 1 suit tile\n",
    "    if simplified == 0:\n",
    "        indices = [tile_34, tile_34 + 1, tile_34 + 2]\n",
    "    # 2 suit tile\n",
    "    elif simplified == 1:\n",
    "        indices = [tile_34 - 1, tile_34, tile_34 + 1, tile_34 + 2]\n",
    "    # 8 suit tile\n",
    "    elif simplified == 7:\n",
    "        indices = [tile_34 - 2, tile_34 - 1, tile_34, tile_34 + 1]\n",
    "    # 9 suit tile\n",
    "    elif simplified == 8:\n",
    "        indices = [tile_34 - 2, tile_34 - 1, tile_34]\n",
    "    # 3-7 tiles tiles\n",
    "    else:\n",
    "        indices = [tile_34 - 2, tile_34 - 1, tile_34, tile_34 + 1, tile_34 + 2]\n",
    "\n",
    "    isolated = True\n",
    "    for tile_index in indices:\n",
    "        # we don't want to count our tile as it is in hand already\n",
    "        if tile_index == tile_34:\n",
    "            isolated &= hand_34[tile_index] - 1 <= 0\n",
    "        else:\n",
    "            isolated &= hand_34[tile_index] == 0\n",
    "\n",
    "    return isolated\n",
    "\n",
    "\n",
    "\n",
    "def calculate_waits(closed_hand_34: List[int], all_tiles_34: List[int], use_chiitoitsu: bool = True):\n",
    "    shanten = Shanten()\n",
    "    previous_shanten = shanten.calculate_shanten(closed_hand_34, use_chiitoitsu=use_chiitoitsu)\n",
    "\n",
    "    waiting = []\n",
    "    for tile_index in range(0, 34):\n",
    "        # it is important to check that we don't have all 4 tiles in the all tiles\n",
    "        # not in the closed hand\n",
    "        # so, we will not count 1z as waiting when we have 111z meld\n",
    "        if all_tiles_34[tile_index] == 4:\n",
    "            continue\n",
    "\n",
    "        closed_hand_34[tile_index] += 1\n",
    "\n",
    "        skip_isolated_tile = True\n",
    "        if closed_hand_34[tile_index] == 4:\n",
    "            skip_isolated_tile = False\n",
    "        if use_chiitoitsu and closed_hand_34[tile_index] == 3:\n",
    "            skip_isolated_tile = False\n",
    "\n",
    "        # there is no need to check single isolated tile\n",
    "        if skip_isolated_tile and is_tile_strictly_isolated(closed_hand_34, tile_index):\n",
    "            closed_hand_34[tile_index] -= 1\n",
    "            continue\n",
    "\n",
    "        new_shanten = shanten.calculate_shanten(closed_hand_34, use_chiitoitsu=use_chiitoitsu)\n",
    "\n",
    "        if new_shanten == previous_shanten - 1:\n",
    "            waiting.append(tile_index)\n",
    "#             print('isolated:')\n",
    "#             print(\"{0:27b}\".format(shanten.number_isolated_tiles))\n",
    "\n",
    "        closed_hand_34[tile_index] -= 1\n",
    "\n",
    "    return waiting, previous_shanten\n",
    "\n",
    "\n",
    "def getUkeire(closed_hand_34, all_tiles_34):\n",
    "    '''\n",
    "    given hand with 13 tiles\n",
    "    '''\n",
    "    return calculate_waits(closed_hand, all_tiles_34)\n",
    "\n",
    "# def shanten1(closed_hand_34, all_tiles_34):\n",
    "#     ukeire = getUkeire(closed_hand34, all_tiles_34)\n",
    "#     for t in ukeire:\n",
    "\n",
    "\n",
    "closed_hand = TilesConverter.string_to_34_array(man='12334556889', sou='13')\n",
    "# # print(closed_hand)\n",
    "shanten = Shanten()\n",
    "print(shanten.calculate_shanten(closed_hand))\n",
    "print(\"{0:27b}\".format(shanten.number_isolated_tiles))\n",
    "print(shanten.number_jidahai)\n",
    "# calculate_waits(closed_hand, closed_hand)"
   ]
  },
  {
   "cell_type": "code",
   "execution_count": 80,
   "metadata": {
    "scrolled": true
   },
   "outputs": [
    {
     "name": "stdout",
     "output_type": "stream",
     "text": [
      "[7, 9, 12, 16, 21, 23, 26] 2\n"
     ]
    },
    {
     "data": {
      "text/plain": [
       "[(7, 10),\n",
       " (7, 11),\n",
       " (7, 15),\n",
       " (7, 17),\n",
       " (7, 24),\n",
       " (7, 25),\n",
       " (9, 7),\n",
       " (9, 15),\n",
       " (9, 17),\n",
       " (9, 21),\n",
       " (9, 24),\n",
       " (9, 25),\n",
       " (12, 7),\n",
       " (12, 15),\n",
       " (12, 17),\n",
       " (12, 21),\n",
       " (12, 24),\n",
       " (12, 25),\n",
       " (16, 7),\n",
       " (16, 10),\n",
       " (16, 11),\n",
       " (16, 21),\n",
       " (16, 24),\n",
       " (16, 25),\n",
       " (21, 10),\n",
       " (21, 11),\n",
       " (21, 15),\n",
       " (21, 17),\n",
       " (21, 24),\n",
       " (21, 25),\n",
       " (23, 7),\n",
       " (23, 10),\n",
       " (23, 11),\n",
       " (23, 15),\n",
       " (23, 17),\n",
       " (23, 21),\n",
       " (26, 7),\n",
       " (26, 10),\n",
       " (26, 11),\n",
       " (26, 15),\n",
       " (26, 17),\n",
       " (26, 21)]"
      ]
     },
     "execution_count": 80,
     "metadata": {},
     "output_type": "execute_result"
    }
   ],
   "source": [
    "def head1(closed_hand_34, all_tiles_34):\n",
    "    '''\n",
    "    try to update hands one step further\n",
    "    '''\n",
    "    ukeire, shanten = calculate_waits(closed_hand_34, all_tiles_34)\n",
    "    print(ukeire, shanten)\n",
    "    \n",
    "    res = []\n",
    "    for u in ukeire:\n",
    "        closed_hand_34[u] += 1\n",
    "        all_tiles_34[u] += 1\n",
    "            \n",
    "        for i in range(34):    #random discard a close tile to see if it is isolated\n",
    "            if closed_hand_34[i] <= 0:\n",
    "                continue\n",
    "            all_tiles_34_copy = all_tiles_34[:]\n",
    "            closed_hand_34_copy = closed_hand_34[:]\n",
    "            all_tiles_34_copy[i] -= 1\n",
    "            closed_hand_34_copy[i] -= 1\n",
    "            new_ukeire, new_shanten = calculate_waits(closed_hand_34_copy, all_tiles_34_copy)\n",
    "            if new_shanten < shanten:\n",
    "                res.append((u, i))\n",
    "        closed_hand_34[u] -= 1\n",
    "        all_tiles_34[u] -= 1\n",
    "            \n",
    "    return res\n",
    "closed_hand = TilesConverter.string_to_34_array(man='34588', sou='4478', pin='2379')\n",
    "\n",
    "\n",
    "head1(closed_hand[:], closed_hand[:])"
   ]
  },
  {
   "cell_type": "code",
   "execution_count": 140,
   "metadata": {},
   "outputs": [
    {
     "name": "stdout",
     "output_type": "stream",
     "text": [
      "defaultdict(<class 'int'>, {'345888m789p44678s': 12, '345888m789p44789s': 12, '345888m123p44678s': 12, '345888m123p44789s': 12, '345888m234p44678s': 12, '345888m234p44789s': 12, '345888m123789p44s': 12, '345888m234789p44s': 12, '345m123789p44678s': 6, '345m123789p44789s': 6, '34588m123p444678s': 12, '34588m123p444789s': 12, '34588m123789p678s': 6, '34588m123789p789s': 6, '34588m123789p444s': 12, '345m234789p44678s': 6, '345m234789p44789s': 6, '34588m234p444678s': 12, '34588m234p444789s': 12, '34588m234789p678s': 6, '34588m234789p789s': 6, '34588m234789p444s': 12, '34588m789p444678s': 12, '34588m789p444789s': 12})\n"
     ]
    }
   ],
   "source": [
    "from mahjong.hand_calculating.hand import HandCalculator\n",
    "from collections import defaultdict\n",
    "def search(closed_hand_34, all_tiles_34):\n",
    "    '''\n",
    "    for now just process with shanten within 3\n",
    "    '''\n",
    "    \n",
    "    hand_calculator = HandCalculator()\n",
    "\n",
    "    \n",
    "    q = []\n",
    "    res = defaultdict(int)\n",
    "    visited = set()\n",
    "    q.append((closed_hand_34, all_tiles_34))\n",
    "    while q:\n",
    "        ch, at = q[0]\n",
    "        q.pop(0)\n",
    "        visited.add(TilesConverter.to_one_line_string(TilesConverter.to_136_array(at)))\n",
    "        ukeire, shanten = calculate_waits(ch, at) \n",
    "     \n",
    "        for u in ukeire:\n",
    "            ch[u] += 1\n",
    "            at[u] += 1\n",
    "            shanten_after_draw = shanten_calculator.calculate_shanten(at)\n",
    "            if shanten_after_draw == -1:\n",
    "                wintile = [0] * 34\n",
    "                wintile[u] = 1\n",
    "                value = hand_calculator.estimate_hand_value(\n",
    "                    TilesConverter.to_136_array(at), \n",
    "                    TilesConverter.to_136_array(wintile)[0]\n",
    "                    )\n",
    "                res[TilesConverter.to_one_line_string(TilesConverter.to_136_array(at))] += 1\n",
    "            else:\n",
    "                for i in range(34):    #random discard a close tile to see if it is isolated\n",
    "                    if ch[i] <= 0:\n",
    "                        continue\n",
    "                    all_tiles_34_copy = at[:]\n",
    "                    closed_hand_34_copy = ch[:]\n",
    "                    all_tiles_34_copy[i] -= 1\n",
    "                    closed_hand_34_copy[i] -= 1\n",
    "                    if TilesConverter.to_one_line_string(TilesConverter.to_136_array(all_tiles_34_copy)) in visited:\n",
    "                        continue\n",
    "                    new_ukeire, new_shanten = calculate_waits(closed_hand_34_copy, all_tiles_34_copy)\n",
    "                    if new_shanten < shanten:\n",
    "                        if sum(all_tiles_34_copy) != 13:\n",
    "                            import ipdb; ipdb.set_trace()\n",
    "                        q.append((closed_hand_34_copy, all_tiles_34_copy))\n",
    "            ch[u] -= 1\n",
    "            at[u] -= 1 \n",
    "    return res\n",
    "# closed_hand = TilesConverter.one_line_string_to_34_array('34m24689p37889s3z')\n",
    "closed_hand = TilesConverter.string_to_34_array(man='34588', sou='4478', pin='2379')\n",
    "# closed_hand = TilesConverter.string_to_34_array(man='1112345678999')\n",
    "possible_ends = search(closed_hand[:], closed_hand[:])\n",
    "print(possible_ends)"
   ]
  },
  {
   "cell_type": "code",
   "execution_count": 88,
   "metadata": {},
   "outputs": [
    {
     "data": {
      "text/plain": [
       "-1"
      ]
     },
     "execution_count": 88,
     "metadata": {},
     "output_type": "execute_result"
    }
   ],
   "source": [
    "closed_hand = TilesConverter.string_to_34_array(man='11112345678999')\n",
    "shanten_calculator.calculate_shanten(closed_hand[:], closed_hand[:])"
   ]
  },
  {
   "cell_type": "code",
   "execution_count": 135,
   "metadata": {},
   "outputs": [
    {
     "data": {
      "text/plain": [
       "70"
      ]
     },
     "execution_count": 135,
     "metadata": {},
     "output_type": "execute_result"
    }
   ],
   "source": [
    "len(possible_ends)"
   ]
  },
  {
   "cell_type": "code",
   "execution_count": null,
   "metadata": {},
   "outputs": [],
   "source": []
  }
 ],
 "metadata": {
  "kernelspec": {
   "display_name": "Python 3",
   "language": "python",
   "name": "python3"
  },
  "language_info": {
   "codemirror_mode": {
    "name": "ipython",
    "version": 3
   },
   "file_extension": ".py",
   "mimetype": "text/x-python",
   "name": "python",
   "nbconvert_exporter": "python",
   "pygments_lexer": "ipython3",
   "version": "3.7.6"
  }
 },
 "nbformat": 4,
 "nbformat_minor": 4
}
